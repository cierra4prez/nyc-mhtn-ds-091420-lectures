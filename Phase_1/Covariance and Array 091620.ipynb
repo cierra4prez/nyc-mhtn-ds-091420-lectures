{
 "cells": [
  {
   "cell_type": "code",
   "execution_count": 1,
   "metadata": {},
   "outputs": [
    {
     "name": "stdout",
     "output_type": "stream",
     "text": [
      "-0.05805000000000284\n"
     ]
    }
   ],
   "source": [
    "# geeksforgeeks covariance\n",
    "\n",
    "# Python3 Program to find \n",
    "# covariance of two set. \n",
    "import math \n",
    "  \n",
    "# Function to find mean. \n",
    "def mean(arr, n): \n",
    "      \n",
    "    sum = 0\n",
    "    for i in range(0, n): \n",
    "        sum = sum + arr[i] \n",
    "      \n",
    "    return sum / n \n",
    "  \n",
    "# Function to find covariance. \n",
    "def covariance(arr1, arr2, n): \n",
    "  \n",
    "    sum = 0\n",
    "    for i in range(0, n): \n",
    "        sum = (sum + (arr1[i] - mean(arr1, n)) *\n",
    "                      (arr2[i] - mean(arr2, n))) \n",
    "      \n",
    "    return sum / (n - 1) \n",
    "  \n",
    "# Driver method \n",
    "arr1 = [65.21, 64.75, 65.26, 65.76, 65.96] \n",
    "n = len(arr1) \n",
    "  \n",
    "arr2 = [67.25, 66.39, 66.12, 65.70, 66.64] \n",
    "m = len(arr2) \n",
    "  \n",
    "if (m == n): \n",
    "    print (covariance(arr1, arr2, m)) "
   ]
  },
  {
   "cell_type": "code",
   "execution_count": null,
   "metadata": {},
   "outputs": [],
   "source": []
  },
  {
   "cell_type": "code",
   "execution_count": 6,
   "metadata": {},
   "outputs": [
    {
     "ename": "IndentationError",
     "evalue": "expected an indented block (<ipython-input-6-639a274a8b50>, line 2)",
     "output_type": "error",
     "traceback": [
      "\u001b[0;36m  File \u001b[0;32m\"<ipython-input-6-639a274a8b50>\"\u001b[0;36m, line \u001b[0;32m2\u001b[0m\n\u001b[0;31m    return (nums[0] == 6 or nums[-1] ==6)\u001b[0m\n\u001b[0m         ^\u001b[0m\n\u001b[0;31mIndentationError\u001b[0m\u001b[0;31m:\u001b[0m expected an indented block\n"
     ]
    }
   ],
   "source": [
    "def first_last6(nums):\n",
    "return (nums[0] == 6 or nums[-1] ==6)\n",
    "    \n"
   ]
  },
  {
   "cell_type": "code",
   "execution_count": 3,
   "metadata": {},
   "outputs": [
    {
     "ename": "SyntaxError",
     "evalue": "invalid syntax (<ipython-input-3-997c3ad097b6>, line 9)",
     "output_type": "error",
     "traceback": [
      "\u001b[0;36m  File \u001b[0;32m\"<ipython-input-3-997c3ad097b6>\"\u001b[0;36m, line \u001b[0;32m9\u001b[0m\n\u001b[0;31m    or nums[-1] ==6:\u001b[0m\n\u001b[0m     ^\u001b[0m\n\u001b[0;31mSyntaxError\u001b[0m\u001b[0;31m:\u001b[0m invalid syntax\n"
     ]
    }
   ],
   "source": [
    "first_last6([1, 2, 6])\n",
    "first_last6([6, 1, 2, 3])\n",
    "first_last6([13, 6, 1, 2, 3])\n",
    "\n",
    "def first_last6(nums):    \n",
    "#    if nums[0] == 6 or nums[-1] ==6:\n",
    "#      return True\n",
    "#   else:\n",
    "#      return False\n",
    "\n",
    "    if nums[0] == 6:\n",
    "      return True\n",
    "    or nums[-1] ==6:\n",
    "      return True\n",
    "    elif:\n",
    "      return False"
   ]
  },
  {
   "cell_type": "code",
   "execution_count": 9,
   "metadata": {},
   "outputs": [
    {
     "ename": "SyntaxError",
     "evalue": "invalid syntax (<ipython-input-9-31949dd92b6e>, line 10)",
     "output_type": "error",
     "traceback": [
      "\u001b[0;36m  File \u001b[0;32m\"<ipython-input-9-31949dd92b6e>\"\u001b[0;36m, line \u001b[0;32m10\u001b[0m\n\u001b[0;31m    elif\u001b[0m\n\u001b[0m        ^\u001b[0m\n\u001b[0;31mSyntaxError\u001b[0m\u001b[0;31m:\u001b[0m invalid syntax\n"
     ]
    }
   ],
   "source": [
    "first_last6([1, 2, 6])\n",
    "first_last6([6, 1, 2, 3])\n",
    "first_last6([13, 6, 1, 2, 3])\n",
    "\n",
    "def first_last6(nums):    \n",
    "    if nums[0] == 6:\n",
    "      return True\n",
    "    elif nums[-1] ==6:\n",
    "      return True\n",
    "    elif\n",
    "      return False"
   ]
  },
  {
   "cell_type": "code",
   "execution_count": null,
   "metadata": {},
   "outputs": [],
   "source": [
    "first_last6([1, 2, 6])\n",
    "first_last6([6, 1, 2, 3])\n",
    "first_last6([13, 6, 1, 2, 3])\n",
    "\n",
    "# Given an array of ints, \n",
    "# return True if 6 appears as either the first \n",
    "# or last element in the array. \n",
    "#The array will be length 1 or more.\n",
    "\n",
    "def first_last(i):\n",
    "    if\n"
   ]
  },
  {
   "cell_type": "code",
   "execution_count": null,
   "metadata": {},
   "outputs": [],
   "source": []
  },
  {
   "cell_type": "code",
   "execution_count": null,
   "metadata": {},
   "outputs": [],
   "source": []
  },
  {
   "cell_type": "code",
   "execution_count": null,
   "metadata": {},
   "outputs": [],
   "source": []
  }
 ],
 "metadata": {
  "kernelspec": {
   "display_name": "Python 3",
   "language": "python",
   "name": "python3"
  },
  "language_info": {
   "codemirror_mode": {
    "name": "ipython",
    "version": 3
   },
   "file_extension": ".py",
   "mimetype": "text/x-python",
   "name": "python",
   "nbconvert_exporter": "python",
   "pygments_lexer": "ipython3",
   "version": "3.6.9"
  }
 },
 "nbformat": 4,
 "nbformat_minor": 4
}
